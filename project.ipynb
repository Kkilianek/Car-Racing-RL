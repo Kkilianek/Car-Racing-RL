{
 "cells": [
  {
   "cell_type": "code",
   "execution_count": 1,
   "id": "initial_id",
   "metadata": {
    "collapsed": true,
    "ExecuteTime": {
     "end_time": "2024-01-16T19:49:39.316341723Z",
     "start_time": "2024-01-16T19:49:38.647967636Z"
    }
   },
   "outputs": [],
   "source": [
    "from collections import defaultdict\n",
    "\n",
    "import gymnasium as gym\n",
    "import matplotlib.pyplot as plt\n",
    "import numpy as np\n"
   ]
  },
  {
   "cell_type": "code",
   "outputs": [],
   "source": [
    "env = gym.make(\"CarRacing-v2\", render_mode=\"rgb_array\")"
   ],
   "metadata": {
    "collapsed": false,
    "ExecuteTime": {
     "end_time": "2024-01-16T19:49:39.353421363Z",
     "start_time": "2024-01-16T19:49:39.316084086Z"
    }
   },
   "id": "ca5795bbdbb39745",
   "execution_count": 2
  },
  {
   "cell_type": "code",
   "outputs": [],
   "source": [
    "class EpsilonGreedyCarRacingAgent:\n",
    "    def __init__(self, learning_rate: float, initial_epsilon: float,\n",
    "                 epsilon_decay: float, final_epsilon: float, discount_factor: float,\n",
    "                 n_bins: int):\n",
    "        self.learning_rate = learning_rate\n",
    "        self.initial_epsilon = initial_epsilon\n",
    "        self.epsilon_decay = epsilon_decay\n",
    "        self.final_epsilon = final_epsilon\n",
    "        self.discount_factor = discount_factor\n",
    "        self.epsilon = initial_epsilon\n",
    "        self.n_bins = n_bins\n",
    "        self.q_table = defaultdict(\n",
    "            lambda: np.zeros((n_bins,) * env.action_space.shape[0]))\n",
    "        self.training_errors = []\n",
    "\n",
    "    def get_action(self, state: np.ndarray) -> np.ndarray:\n",
    "        state_key = self.state_to_bin(state)\n",
    "        if np.random.random() < self.epsilon:\n",
    "            return env.action_space.sample()\n",
    "        else:\n",
    "            action_index = np.unravel_index(np.argmax(self.q_table[state_key]),\n",
    "                                            self.q_table[state_key].shape)\n",
    "            return np.array([self.bin_to_action_value(i, bin) for i, bin in\n",
    "                             enumerate(action_index)])\n",
    "\n",
    "    def update(self, state: np.ndarray, action: np.ndarray, reward: float,\n",
    "               terminated: bool, next_state: np.ndarray) -> None:\n",
    "        state_key = self.state_to_bin(state)\n",
    "        next_state_key = self.state_to_bin(next_state)\n",
    "        action_key = tuple(self.action_value_to_bin(action))\n",
    "        future_q_value = (not terminated) * np.max(self.q_table[next_state_key])\n",
    "        temporal_difference = reward + self.discount_factor * future_q_value - \\\n",
    "                              self.q_table[state_key][action_key]\n",
    "        self.q_table[state_key][action_key] += self.learning_rate * temporal_difference\n",
    "        self.training_errors.append(temporal_difference)\n",
    "\n",
    "    def state_to_bin(self, state: np.ndarray) -> tuple[int, ...]:\n",
    "        return tuple(\n",
    "            np.digitize(val, np.linspace(-1, 1, self.n_bins)) for val in state.flatten())\n",
    "\n",
    "    def action_value_to_bin(self, action_value: np.ndarray) -> tuple[int, ...]:\n",
    "        return tuple(\n",
    "            np.digitize(val, np.linspace(low, high, self.n_bins)) for val, low, high in\n",
    "            zip(action_value, env.action_space.low, env.action_space.high))\n",
    "\n",
    "    def bin_to_action_value(self, i: int, bin: int) -> float:\n",
    "        return env.action_space.low[i] + (\n",
    "                env.action_space.high[i] - env.action_space.low[i]) * (\n",
    "                bin + 0.5) / self.n_bins\n",
    "\n",
    "    def decay_epsilon(self) -> None:\n",
    "        \"\"\"Decays epsilon\"\"\"\n",
    "        self.epsilon = max(self.final_epsilon, self.epsilon * self.epsilon_decay)"
   ],
   "metadata": {
    "collapsed": false,
    "ExecuteTime": {
     "end_time": "2024-01-16T19:49:39.364850809Z",
     "start_time": "2024-01-16T19:49:39.361532579Z"
    }
   },
   "id": "f35986d56c20185f",
   "execution_count": 3
  },
  {
   "cell_type": "code",
   "outputs": [],
   "source": [
    "learning_rate = 1\n",
    "n_episodes = 100\n",
    "initial_epsilon = 1.0\n",
    "epsilon_decay = initial_epsilon ** (1 / n_episodes)\n",
    "final_epsilon = 0.01\n",
    "\n",
    "agent = EpsilonGreedyCarRacingAgent(learning_rate, initial_epsilon, epsilon_decay,\n",
    "                                    final_epsilon, discount_factor=0.99, n_bins=10)\n",
    "env = gym.wrappers.RecordEpisodeStatistics(env)"
   ],
   "metadata": {
    "collapsed": false,
    "ExecuteTime": {
     "end_time": "2024-01-16T19:49:39.377635855Z",
     "start_time": "2024-01-16T19:49:39.365912986Z"
    }
   },
   "id": "42defd7ab6348336",
   "execution_count": 4
  },
  {
   "cell_type": "code",
   "outputs": [
    {
     "data": {
      "text/plain": "  0%|          | 0/100 [00:00<?, ?it/s]",
      "application/vnd.jupyter.widget-view+json": {
       "version_major": 2,
       "version_minor": 0,
       "model_id": "d74ba6305f8046ac8910c385d7c0f4e7"
      }
     },
     "metadata": {},
     "output_type": "display_data"
    }
   ],
   "source": [
    "from tqdm.notebook import tqdm\n",
    "\n",
    "# Komórka 1: Inicjalizacja paska postępu\n",
    "progress = tqdm(range(n_episodes))"
   ],
   "metadata": {
    "collapsed": false,
    "ExecuteTime": {
     "end_time": "2024-01-16T19:49:39.475932261Z",
     "start_time": "2024-01-16T19:49:39.369963278Z"
    }
   },
   "id": "860567ecdbcfe2e0",
   "execution_count": 5
  },
  {
   "cell_type": "code",
   "outputs": [
    {
     "name": "stderr",
     "output_type": "stream",
     "text": [
      "\n",
      "KeyboardInterrupt\n",
      "\n"
     ]
    }
   ],
   "source": [
    "from IPython.display import clear_output\n",
    "verbose = False\n",
    "for episode in progress:\n",
    "    state, info = env.reset()\n",
    "    done = False\n",
    "    while not done:\n",
    "        action = agent.get_action(state)\n",
    "        next_state, reward, terminated, truncated, info = env.step(action)\n",
    "        agent.update(state, action, reward, terminated, next_state)\n",
    "        if verbose:\n",
    "            frame = env.render()\n",
    "            clear_output(wait=True)  # Usuń poprzednią klatkę\n",
    "            plt.imshow(frame)\n",
    "            plt.show()\n",
    "            progress.refresh()  # Aktualizuj pasek postępu\n",
    "        state = next_state\n",
    "        done = terminated or truncated\n",
    "    agent.decay_epsilon()"
   ],
   "metadata": {
    "collapsed": false,
    "ExecuteTime": {
     "end_time": "2024-01-16T19:53:15.125933940Z",
     "start_time": "2024-01-16T19:49:39.474196261Z"
    }
   },
   "id": "60d517b5e8480f97",
   "execution_count": 6
  }
 ],
 "metadata": {
  "kernelspec": {
   "display_name": "Python 3",
   "language": "python",
   "name": "python3"
  },
  "language_info": {
   "codemirror_mode": {
    "name": "ipython",
    "version": 2
   },
   "file_extension": ".py",
   "mimetype": "text/x-python",
   "name": "python",
   "nbconvert_exporter": "python",
   "pygments_lexer": "ipython2",
   "version": "2.7.6"
  }
 },
 "nbformat": 4,
 "nbformat_minor": 5
}
